{
 "cells": [
  {
   "cell_type": "code",
   "execution_count": 1,
   "id": "2c770ad2",
   "metadata": {},
   "outputs": [
    {
     "name": "stderr",
     "output_type": "stream",
     "text": [
      "[nltk_data] Downloading package vader_lexicon to\n",
      "[nltk_data]     /home/k9zhou/nltk_data...\n",
      "[nltk_data]   Package vader_lexicon is already up-to-date!\n"
     ]
    },
    {
     "data": {
      "text/plain": [
       "True"
      ]
     },
     "execution_count": 1,
     "metadata": {},
     "output_type": "execute_result"
    }
   ],
   "source": [
    "import pandas as pd\n",
    "import numpy as np\n",
    "import seaborn as sns\n",
    "import nltk\n",
    "nltk.download('vader_lexicon')"
   ]
  },
  {
   "cell_type": "code",
   "execution_count": 2,
   "id": "5e4f2b2e",
   "metadata": {},
   "outputs": [],
   "source": [
    "df= pd.read_csv('SampledPornhubDb.csv')\n",
    "df=df.drop(columns=['Embed Link','Thumbnail URL'])"
   ]
  },
  {
   "cell_type": "code",
   "execution_count": 3,
   "id": "a3327c21",
   "metadata": {},
   "outputs": [
    {
     "data": {
      "text/html": [
       "<div>\n",
       "<style scoped>\n",
       "    .dataframe tbody tr th:only-of-type {\n",
       "        vertical-align: middle;\n",
       "    }\n",
       "\n",
       "    .dataframe tbody tr th {\n",
       "        vertical-align: top;\n",
       "    }\n",
       "\n",
       "    .dataframe thead th {\n",
       "        text-align: right;\n",
       "    }\n",
       "</style>\n",
       "<table border=\"1\" class=\"dataframe\">\n",
       "  <thead>\n",
       "    <tr style=\"text-align: right;\">\n",
       "      <th></th>\n",
       "      <th>Title</th>\n",
       "      <th>Tags</th>\n",
       "      <th>Categories</th>\n",
       "      <th>Pornstars</th>\n",
       "      <th>duration (seconds)</th>\n",
       "      <th>views</th>\n",
       "      <th>likes</th>\n",
       "      <th>dislikes</th>\n",
       "    </tr>\n",
       "  </thead>\n",
       "  <tbody>\n",
       "    <tr>\n",
       "      <th>0</th>\n",
       "      <td>hollie being a slut</td>\n",
       "      <td>hollie;fat;slut;cum-eating;slave;humiliating;h...</td>\n",
       "      <td>Fetish</td>\n",
       "      <td>NaN</td>\n",
       "      <td>417</td>\n",
       "      <td>898</td>\n",
       "      <td>NaN</td>\n",
       "      <td>NaN</td>\n",
       "    </tr>\n",
       "    <tr>\n",
       "      <th>1</th>\n",
       "      <td>Hot babe gets body caressed</td>\n",
       "      <td>teen;hardcore;blowjob;amateurs;euro;russian;te...</td>\n",
       "      <td>Amateur;Hardcore;Teen</td>\n",
       "      <td>NaN</td>\n",
       "      <td>317</td>\n",
       "      <td>1040</td>\n",
       "      <td>NaN</td>\n",
       "      <td>NaN</td>\n",
       "    </tr>\n",
       "    <tr>\n",
       "      <th>2</th>\n",
       "      <td>Slut takes rides it deep</td>\n",
       "      <td>teenhitchhikers.com;ass;chubby;riding;blonde;c...</td>\n",
       "      <td>Blonde;Hardcore</td>\n",
       "      <td>NaN</td>\n",
       "      <td>60</td>\n",
       "      <td>76247</td>\n",
       "      <td>85.0</td>\n",
       "      <td>26.0</td>\n",
       "    </tr>\n",
       "    <tr>\n",
       "      <th>3</th>\n",
       "      <td>Lexi Belle Is One Sexy Bitch</td>\n",
       "      <td>small-tits;pornstar;blonde;teen;fishnet;teasin...</td>\n",
       "      <td>Pornstar;Teen;Small Tits;Rough Sex</td>\n",
       "      <td>Lexi Belle;Mick Blue</td>\n",
       "      <td>1633</td>\n",
       "      <td>1830089</td>\n",
       "      <td>1741.0</td>\n",
       "      <td>273.0</td>\n",
       "    </tr>\n",
       "    <tr>\n",
       "      <th>4</th>\n",
       "      <td>Panty and Ass Worship</td>\n",
       "      <td>fetish;panties;ass;suffocation;pigtails;braces</td>\n",
       "      <td>Fetish;Teen</td>\n",
       "      <td>NaN</td>\n",
       "      <td>285</td>\n",
       "      <td>26322</td>\n",
       "      <td>33.0</td>\n",
       "      <td>12.0</td>\n",
       "    </tr>\n",
       "  </tbody>\n",
       "</table>\n",
       "</div>"
      ],
      "text/plain": [
       "                          Title  \\\n",
       "0           hollie being a slut   \n",
       "1   Hot babe gets body caressed   \n",
       "2      Slut takes rides it deep   \n",
       "3  Lexi Belle Is One Sexy Bitch   \n",
       "4         Panty and Ass Worship   \n",
       "\n",
       "                                                Tags  \\\n",
       "0  hollie;fat;slut;cum-eating;slave;humiliating;h...   \n",
       "1  teen;hardcore;blowjob;amateurs;euro;russian;te...   \n",
       "2  teenhitchhikers.com;ass;chubby;riding;blonde;c...   \n",
       "3  small-tits;pornstar;blonde;teen;fishnet;teasin...   \n",
       "4     fetish;panties;ass;suffocation;pigtails;braces   \n",
       "\n",
       "                           Categories             Pornstars  \\\n",
       "0                              Fetish                   NaN   \n",
       "1               Amateur;Hardcore;Teen                   NaN   \n",
       "2                     Blonde;Hardcore                   NaN   \n",
       "3  Pornstar;Teen;Small Tits;Rough Sex  Lexi Belle;Mick Blue   \n",
       "4                         Fetish;Teen                   NaN   \n",
       "\n",
       "   duration (seconds)    views   likes  dislikes  \n",
       "0                 417      898     NaN       NaN  \n",
       "1                 317     1040     NaN       NaN  \n",
       "2                  60    76247    85.0      26.0  \n",
       "3                1633  1830089  1741.0     273.0  \n",
       "4                 285    26322    33.0      12.0  "
      ]
     },
     "execution_count": 3,
     "metadata": {},
     "output_type": "execute_result"
    }
   ],
   "source": [
    "df.head()"
   ]
  },
  {
   "cell_type": "code",
   "execution_count": 4,
   "id": "5e80a64c",
   "metadata": {},
   "outputs": [
    {
     "data": {
      "text/plain": [
       "count    8.440660e+05\n",
       "mean     4.145755e+04\n",
       "std      4.125756e+05\n",
       "min      0.000000e+00\n",
       "25%      1.740000e+02\n",
       "50%      8.780000e+02\n",
       "75%      7.293000e+03\n",
       "max      7.389239e+07\n",
       "Name: views, dtype: float64"
      ]
     },
     "execution_count": 4,
     "metadata": {},
     "output_type": "execute_result"
    }
   ],
   "source": [
    "#take a look at views\n",
    "df['views'].describe()"
   ]
  },
  {
   "cell_type": "markdown",
   "id": "e377af32",
   "metadata": {},
   "source": [
    "Pornhub pays 0.69 dollar for every 1000 views, so 100,000 views make 69 dollars, 1 million (1,000,000) views make 690 dollars. \n",
    "\n",
    "Over 75% of the videos in our dataset have fewer than 10,000 views, which make only 6.9 dollars. It is really hard to make full-time income from these videos. In order to have enough data to show and compare later, here we define 100,000 views to be successful."
   ]
  },
  {
   "cell_type": "code",
   "execution_count": 5,
   "id": "906580d7",
   "metadata": {},
   "outputs": [],
   "source": [
    "#classify videos into successful and unsuccessful\n",
    "def success(views):\n",
    "    if views >= 100000:\n",
    "        out= 'yes'\n",
    "    else:\n",
    "        out= 'no'\n",
    "    return out\n",
    "\n",
    "success=df['views'].apply(success)\n",
    "success=success.rename('success').reset_index().drop(columns='index')"
   ]
  },
  {
   "cell_type": "code",
   "execution_count": 6,
   "id": "0c7d545b",
   "metadata": {},
   "outputs": [
    {
     "data": {
      "text/plain": [
       "success\n",
       "no         795200\n",
       "yes         48866\n",
       "Name: count, dtype: int64"
      ]
     },
     "execution_count": 6,
     "metadata": {},
     "output_type": "execute_result"
    }
   ],
   "source": [
    "#take a look at the number of successful videos\n",
    "success.value_counts()"
   ]
  },
  {
   "cell_type": "code",
   "execution_count": 7,
   "id": "3dac0ff3",
   "metadata": {},
   "outputs": [],
   "source": [
    "from nltk.sentiment.vader import SentimentIntensityAnalyzer\n",
    "analyzer = SentimentIntensityAnalyzer()"
   ]
  },
  {
   "cell_type": "code",
   "execution_count": 8,
   "id": "65434efe",
   "metadata": {},
   "outputs": [],
   "source": [
    "#determine the sentiment of tags\n",
    "def sentiment(tag):\n",
    "    tag=str(tag).replace(';',' ')\n",
    "    score= analyzer.polarity_scores(tag)['compound']\n",
    "    if score>0:\n",
    "        out='positive'\n",
    "    elif score<0:\n",
    "        out='negative'\n",
    "    else:\n",
    "        out='neutral'\n",
    "    return out\n",
    "\n",
    "sentiment=df['Tags'].apply(sentiment)\n",
    "sentiment=sentiment.rename('sentiment').reset_index().drop(columns='index')"
   ]
  },
  {
   "cell_type": "code",
   "execution_count": 9,
   "id": "c10d54a5",
   "metadata": {},
   "outputs": [],
   "source": [
    "#determine whether the video has a transgender tag\n",
    "def transgender(tag):\n",
    "    tag=str(tag).replace(';',' ')\n",
    "    if 'tran'in tag or 'trap' in tag or 'shemale'in tag or 'ladyboy'in tag or 'sissy' in tag or 'ftm'in tag or 'mtf' in tag or 'femboy' in tag or 'shecock' in tag:\n",
    "        out='yes'\n",
    "    else:\n",
    "        out='no'\n",
    "    return out\n",
    "\n",
    "transgender=df['Tags'].apply(transgender)\n",
    "transgender=transgender.rename('transgender').reset_index().drop(columns='index')"
   ]
  },
  {
   "cell_type": "code",
   "execution_count": 10,
   "id": "2ced0c32",
   "metadata": {},
   "outputs": [
    {
     "data": {
      "text/plain": [
       "transgender\n",
       "no             818364\n",
       "yes             25702\n",
       "Name: count, dtype: int64"
      ]
     },
     "execution_count": 10,
     "metadata": {},
     "output_type": "execute_result"
    }
   ],
   "source": [
    "transgender.value_counts()"
   ]
  },
  {
   "cell_type": "code",
   "execution_count": 11,
   "id": "659e29c5",
   "metadata": {},
   "outputs": [],
   "source": [
    "#make a new dataframe containing classified information\n",
    "df2=pd.concat([transgender, sentiment, success],axis=1)"
   ]
  },
  {
   "cell_type": "code",
   "execution_count": 12,
   "id": "e96401da",
   "metadata": {},
   "outputs": [
    {
     "data": {
      "text/html": [
       "<div>\n",
       "<style scoped>\n",
       "    .dataframe tbody tr th:only-of-type {\n",
       "        vertical-align: middle;\n",
       "    }\n",
       "\n",
       "    .dataframe tbody tr th {\n",
       "        vertical-align: top;\n",
       "    }\n",
       "\n",
       "    .dataframe thead th {\n",
       "        text-align: right;\n",
       "    }\n",
       "</style>\n",
       "<table border=\"1\" class=\"dataframe\">\n",
       "  <thead>\n",
       "    <tr style=\"text-align: right;\">\n",
       "      <th></th>\n",
       "      <th>transgender</th>\n",
       "      <th>sentiment</th>\n",
       "      <th>success</th>\n",
       "    </tr>\n",
       "  </thead>\n",
       "  <tbody>\n",
       "    <tr>\n",
       "      <th>0</th>\n",
       "      <td>no</td>\n",
       "      <td>negative</td>\n",
       "      <td>no</td>\n",
       "    </tr>\n",
       "    <tr>\n",
       "      <th>1</th>\n",
       "      <td>no</td>\n",
       "      <td>neutral</td>\n",
       "      <td>no</td>\n",
       "    </tr>\n",
       "    <tr>\n",
       "      <th>2</th>\n",
       "      <td>no</td>\n",
       "      <td>negative</td>\n",
       "      <td>no</td>\n",
       "    </tr>\n",
       "    <tr>\n",
       "      <th>3</th>\n",
       "      <td>no</td>\n",
       "      <td>positive</td>\n",
       "      <td>yes</td>\n",
       "    </tr>\n",
       "    <tr>\n",
       "      <th>4</th>\n",
       "      <td>no</td>\n",
       "      <td>negative</td>\n",
       "      <td>no</td>\n",
       "    </tr>\n",
       "    <tr>\n",
       "      <th>...</th>\n",
       "      <td>...</td>\n",
       "      <td>...</td>\n",
       "      <td>...</td>\n",
       "    </tr>\n",
       "    <tr>\n",
       "      <th>844061</th>\n",
       "      <td>yes</td>\n",
       "      <td>neutral</td>\n",
       "      <td>no</td>\n",
       "    </tr>\n",
       "    <tr>\n",
       "      <th>844062</th>\n",
       "      <td>no</td>\n",
       "      <td>neutral</td>\n",
       "      <td>no</td>\n",
       "    </tr>\n",
       "    <tr>\n",
       "      <th>844063</th>\n",
       "      <td>no</td>\n",
       "      <td>neutral</td>\n",
       "      <td>no</td>\n",
       "    </tr>\n",
       "    <tr>\n",
       "      <th>844064</th>\n",
       "      <td>no</td>\n",
       "      <td>neutral</td>\n",
       "      <td>no</td>\n",
       "    </tr>\n",
       "    <tr>\n",
       "      <th>844065</th>\n",
       "      <td>no</td>\n",
       "      <td>negative</td>\n",
       "      <td>no</td>\n",
       "    </tr>\n",
       "  </tbody>\n",
       "</table>\n",
       "<p>844066 rows × 3 columns</p>\n",
       "</div>"
      ],
      "text/plain": [
       "       transgender sentiment success\n",
       "0               no  negative      no\n",
       "1               no   neutral      no\n",
       "2               no  negative      no\n",
       "3               no  positive     yes\n",
       "4               no  negative      no\n",
       "...            ...       ...     ...\n",
       "844061         yes   neutral      no\n",
       "844062          no   neutral      no\n",
       "844063          no   neutral      no\n",
       "844064          no   neutral      no\n",
       "844065          no  negative      no\n",
       "\n",
       "[844066 rows x 3 columns]"
      ]
     },
     "execution_count": 12,
     "metadata": {},
     "output_type": "execute_result"
    }
   ],
   "source": [
    "#take a look at the dataframe\n",
    "df2"
   ]
  },
  {
   "cell_type": "code",
   "execution_count": 13,
   "id": "7accdca9",
   "metadata": {},
   "outputs": [
    {
     "data": {
      "text/html": [
       "<div>\n",
       "<style scoped>\n",
       "    .dataframe tbody tr th:only-of-type {\n",
       "        vertical-align: middle;\n",
       "    }\n",
       "\n",
       "    .dataframe tbody tr th {\n",
       "        vertical-align: top;\n",
       "    }\n",
       "\n",
       "    .dataframe thead th {\n",
       "        text-align: right;\n",
       "    }\n",
       "</style>\n",
       "<table border=\"1\" class=\"dataframe\">\n",
       "  <thead>\n",
       "    <tr style=\"text-align: right;\">\n",
       "      <th></th>\n",
       "      <th>sentiment</th>\n",
       "      <th>success</th>\n",
       "      <th>proportion</th>\n",
       "    </tr>\n",
       "  </thead>\n",
       "  <tbody>\n",
       "    <tr>\n",
       "      <th>0</th>\n",
       "      <td>negative</td>\n",
       "      <td>no</td>\n",
       "      <td>0.926930</td>\n",
       "    </tr>\n",
       "    <tr>\n",
       "      <th>1</th>\n",
       "      <td>negative</td>\n",
       "      <td>yes</td>\n",
       "      <td>0.073070</td>\n",
       "    </tr>\n",
       "    <tr>\n",
       "      <th>2</th>\n",
       "      <td>neutral</td>\n",
       "      <td>no</td>\n",
       "      <td>0.948463</td>\n",
       "    </tr>\n",
       "    <tr>\n",
       "      <th>3</th>\n",
       "      <td>neutral</td>\n",
       "      <td>yes</td>\n",
       "      <td>0.051537</td>\n",
       "    </tr>\n",
       "    <tr>\n",
       "      <th>4</th>\n",
       "      <td>positive</td>\n",
       "      <td>no</td>\n",
       "      <td>0.908260</td>\n",
       "    </tr>\n",
       "    <tr>\n",
       "      <th>5</th>\n",
       "      <td>positive</td>\n",
       "      <td>yes</td>\n",
       "      <td>0.091740</td>\n",
       "    </tr>\n",
       "  </tbody>\n",
       "</table>\n",
       "</div>"
      ],
      "text/plain": [
       "  sentiment success  proportion\n",
       "0  negative      no    0.926930\n",
       "1  negative     yes    0.073070\n",
       "2   neutral      no    0.948463\n",
       "3   neutral     yes    0.051537\n",
       "4  positive      no    0.908260\n",
       "5  positive     yes    0.091740"
      ]
     },
     "execution_count": 13,
     "metadata": {},
     "output_type": "execute_result"
    }
   ],
   "source": [
    "prop=df2['success'].groupby(by=df2['sentiment']).value_counts(normalize=True).reset_index()\n",
    "prop"
   ]
  },
  {
   "cell_type": "code",
   "execution_count": 14,
   "id": "664879dd",
   "metadata": {},
   "outputs": [
    {
     "data": {
      "text/plain": [
       "<AxesSubplot:xlabel='success', ylabel='proportion'>"
      ]
     },
     "execution_count": 14,
     "metadata": {},
     "output_type": "execute_result"
    },
    {
     "data": {
      "image/png": "[encoded data removed]",
      "text/plain": [
       "<Figure size 432x288 with 1 Axes>"
      ]
     },
     "metadata": {
      "needs_background": "light"
     },
     "output_type": "display_data"
    }
   ],
   "source": [
    "plot=sns.barplot(data=prop, x='success', y='proportion', hue='sentiment')\n",
    "plot"
   ]
  },
  {
   "cell_type": "markdown",
   "id": "965dda02",
   "metadata": {},
   "source": [
    "Among all the videos, videos with neutral tags are least likely to become successful, and videos with positive tags are the most likely to become successful."
   ]
  },
  {
   "cell_type": "code",
   "execution_count": 15,
   "id": "efde786c",
   "metadata": {},
   "outputs": [
    {
     "data": {
      "text/html": [
       "<div>\n",
       "<style scoped>\n",
       "    .dataframe tbody tr th:only-of-type {\n",
       "        vertical-align: middle;\n",
       "    }\n",
       "\n",
       "    .dataframe tbody tr th {\n",
       "        vertical-align: top;\n",
       "    }\n",
       "\n",
       "    .dataframe thead th {\n",
       "        text-align: right;\n",
       "    }\n",
       "</style>\n",
       "<table border=\"1\" class=\"dataframe\">\n",
       "  <thead>\n",
       "    <tr style=\"text-align: right;\">\n",
       "      <th></th>\n",
       "      <th>sentiment</th>\n",
       "      <th>success</th>\n",
       "      <th>proportion</th>\n",
       "    </tr>\n",
       "  </thead>\n",
       "  <tbody>\n",
       "    <tr>\n",
       "      <th>0</th>\n",
       "      <td>negative</td>\n",
       "      <td>no</td>\n",
       "      <td>0.931054</td>\n",
       "    </tr>\n",
       "    <tr>\n",
       "      <th>1</th>\n",
       "      <td>negative</td>\n",
       "      <td>yes</td>\n",
       "      <td>0.068946</td>\n",
       "    </tr>\n",
       "    <tr>\n",
       "      <th>2</th>\n",
       "      <td>neutral</td>\n",
       "      <td>no</td>\n",
       "      <td>0.930766</td>\n",
       "    </tr>\n",
       "    <tr>\n",
       "      <th>3</th>\n",
       "      <td>neutral</td>\n",
       "      <td>yes</td>\n",
       "      <td>0.069234</td>\n",
       "    </tr>\n",
       "    <tr>\n",
       "      <th>4</th>\n",
       "      <td>positive</td>\n",
       "      <td>no</td>\n",
       "      <td>0.880923</td>\n",
       "    </tr>\n",
       "    <tr>\n",
       "      <th>5</th>\n",
       "      <td>positive</td>\n",
       "      <td>yes</td>\n",
       "      <td>0.119077</td>\n",
       "    </tr>\n",
       "  </tbody>\n",
       "</table>\n",
       "</div>"
      ],
      "text/plain": [
       "  sentiment success  proportion\n",
       "0  negative      no    0.931054\n",
       "1  negative     yes    0.068946\n",
       "2   neutral      no    0.930766\n",
       "3   neutral     yes    0.069234\n",
       "4  positive      no    0.880923\n",
       "5  positive     yes    0.119077"
      ]
     },
     "execution_count": 15,
     "metadata": {},
     "output_type": "execute_result"
    }
   ],
   "source": [
    "prop_trans=df2[df2['transgender']=='yes']['success'].groupby(by=df2[df2['transgender']=='yes']['sentiment']).value_counts(normalize=True).reset_index()\n",
    "prop_trans"
   ]
  },
  {
   "cell_type": "code",
   "execution_count": 16,
   "id": "2b274755",
   "metadata": {},
   "outputs": [
    {
     "data": {
      "text/plain": [
       "<AxesSubplot:xlabel='success', ylabel='proportion'>"
      ]
     },
     "execution_count": 16,
     "metadata": {},
     "output_type": "execute_result"
    },
    {
     "data": {
      "image/png": "[encoded data removed]",
      "text/plain": [
       "<Figure size 432x288 with 1 Axes>"
      ]
     },
     "metadata": {
      "needs_background": "light"
     },
     "output_type": "display_data"
    }
   ],
   "source": [
    "plot_trans=sns.barplot(data=prop_trans, x='success',y='proportion',hue='sentiment')\n",
    "plot_trans"
   ]
  },
  {
   "cell_type": "markdown",
   "id": "a38ede39",
   "metadata": {},
   "source": [
    "When looking at transgender videos, results are slightly different. Positive tags again lead to most success. However, the proportion of successful videos with neutral tags is increased a lot, tied with negative tags."
   ]
  },
  {
   "cell_type": "code",
   "execution_count": null,
   "id": "8fde0568",
   "metadata": {},
   "outputs": [],
   "source": []
  },
  {
   "cell_type": "markdown",
   "id": "a3271258",
   "metadata": {},
   "source": [
    "Regression Analysis"
   ]
  },
  {
   "cell_type": "code",
   "execution_count": 17,
   "id": "b7538fd4",
   "metadata": {},
   "outputs": [],
   "source": [
    "import seaborn as sns\n",
    "import patsy\n",
    "import statsmodels.api as sm"
   ]
  },
  {
   "cell_type": "code",
   "execution_count": 18,
   "id": "43b6e0e8",
   "metadata": {},
   "outputs": [
    {
     "data": {
      "text/plain": [
       "0        -0.9022\n",
       "1         0.0000\n",
       "2        -0.5423\n",
       "3         0.5267\n",
       "4        -0.5423\n",
       "           ...  \n",
       "844061    0.0000\n",
       "844062    0.0000\n",
       "844063    0.0000\n",
       "844064    0.0000\n",
       "844065   -0.5423\n",
       "Name: score, Length: 844066, dtype: float64"
      ]
     },
     "execution_count": 18,
     "metadata": {},
     "output_type": "execute_result"
    }
   ],
   "source": [
    "tag_str=[str(tag).replace(';',' ') for tag in df['Tags']]\n",
    "df['score']=[analyzer.polarity_scores(tag)['compound'] for tag in tag_str]\n",
    "\n",
    "df['score']"
   ]
  },
  {
   "cell_type": "code",
   "execution_count": 24,
   "id": "a1b03658",
   "metadata": {},
   "outputs": [],
   "source": [
    "def income(views):\n",
    "    if views >= 1000:\n",
    "        out=views//1000*0.69\n",
    "    else:\n",
    "        out=0\n",
    "    return out\n",
    "\n",
    "df['income']=df['views'].apply(income)"
   ]
  },
  {
   "cell_type": "code",
   "execution_count": 25,
   "id": "e9f7ccd9",
   "metadata": {},
   "outputs": [
    {
     "data": {
      "text/html": [
       "<div>\n",
       "<style scoped>\n",
       "    .dataframe tbody tr th:only-of-type {\n",
       "        vertical-align: middle;\n",
       "    }\n",
       "\n",
       "    .dataframe tbody tr th {\n",
       "        vertical-align: top;\n",
       "    }\n",
       "\n",
       "    .dataframe thead th {\n",
       "        text-align: right;\n",
       "    }\n",
       "</style>\n",
       "<table border=\"1\" class=\"dataframe\">\n",
       "  <thead>\n",
       "    <tr style=\"text-align: right;\">\n",
       "      <th></th>\n",
       "      <th>Title</th>\n",
       "      <th>Tags</th>\n",
       "      <th>Categories</th>\n",
       "      <th>Pornstars</th>\n",
       "      <th>duration</th>\n",
       "      <th>views</th>\n",
       "      <th>likes</th>\n",
       "      <th>dislikes</th>\n",
       "      <th>score</th>\n",
       "      <th>like_ratio</th>\n",
       "      <th>success</th>\n",
       "      <th>sentiment</th>\n",
       "      <th>transgender</th>\n",
       "      <th>income</th>\n",
       "    </tr>\n",
       "  </thead>\n",
       "  <tbody>\n",
       "    <tr>\n",
       "      <th>0</th>\n",
       "      <td>hollie being a slut</td>\n",
       "      <td>hollie;fat;slut;cum-eating;slave;humiliating;h...</td>\n",
       "      <td>Fetish</td>\n",
       "      <td>NaN</td>\n",
       "      <td>417</td>\n",
       "      <td>898</td>\n",
       "      <td>NaN</td>\n",
       "      <td>NaN</td>\n",
       "      <td>-0.9022</td>\n",
       "      <td>NaN</td>\n",
       "      <td>no</td>\n",
       "      <td>negative</td>\n",
       "      <td>no</td>\n",
       "      <td>0.00</td>\n",
       "    </tr>\n",
       "    <tr>\n",
       "      <th>1</th>\n",
       "      <td>Hot babe gets body caressed</td>\n",
       "      <td>teen;hardcore;blowjob;amateurs;euro;russian;te...</td>\n",
       "      <td>Amateur;Hardcore;Teen</td>\n",
       "      <td>NaN</td>\n",
       "      <td>317</td>\n",
       "      <td>1040</td>\n",
       "      <td>NaN</td>\n",
       "      <td>NaN</td>\n",
       "      <td>0.0000</td>\n",
       "      <td>NaN</td>\n",
       "      <td>no</td>\n",
       "      <td>neutral</td>\n",
       "      <td>no</td>\n",
       "      <td>0.69</td>\n",
       "    </tr>\n",
       "    <tr>\n",
       "      <th>2</th>\n",
       "      <td>Slut takes rides it deep</td>\n",
       "      <td>teenhitchhikers.com;ass;chubby;riding;blonde;c...</td>\n",
       "      <td>Blonde;Hardcore</td>\n",
       "      <td>NaN</td>\n",
       "      <td>60</td>\n",
       "      <td>76247</td>\n",
       "      <td>85.0</td>\n",
       "      <td>26.0</td>\n",
       "      <td>-0.5423</td>\n",
       "      <td>0.765766</td>\n",
       "      <td>no</td>\n",
       "      <td>negative</td>\n",
       "      <td>no</td>\n",
       "      <td>52.44</td>\n",
       "    </tr>\n",
       "    <tr>\n",
       "      <th>3</th>\n",
       "      <td>Lexi Belle Is One Sexy Bitch</td>\n",
       "      <td>small-tits;pornstar;blonde;teen;fishnet;teasin...</td>\n",
       "      <td>Pornstar;Teen;Small Tits;Rough Sex</td>\n",
       "      <td>Lexi Belle;Mick Blue</td>\n",
       "      <td>1633</td>\n",
       "      <td>1830089</td>\n",
       "      <td>1741.0</td>\n",
       "      <td>273.0</td>\n",
       "      <td>0.5267</td>\n",
       "      <td>0.864449</td>\n",
       "      <td>yes</td>\n",
       "      <td>positive</td>\n",
       "      <td>no</td>\n",
       "      <td>1262.70</td>\n",
       "    </tr>\n",
       "    <tr>\n",
       "      <th>4</th>\n",
       "      <td>Panty and Ass Worship</td>\n",
       "      <td>fetish;panties;ass;suffocation;pigtails;braces</td>\n",
       "      <td>Fetish;Teen</td>\n",
       "      <td>NaN</td>\n",
       "      <td>285</td>\n",
       "      <td>26322</td>\n",
       "      <td>33.0</td>\n",
       "      <td>12.0</td>\n",
       "      <td>-0.5423</td>\n",
       "      <td>0.733333</td>\n",
       "      <td>no</td>\n",
       "      <td>negative</td>\n",
       "      <td>no</td>\n",
       "      <td>17.94</td>\n",
       "    </tr>\n",
       "    <tr>\n",
       "      <th>...</th>\n",
       "      <td>...</td>\n",
       "      <td>...</td>\n",
       "      <td>...</td>\n",
       "      <td>...</td>\n",
       "      <td>...</td>\n",
       "      <td>...</td>\n",
       "      <td>...</td>\n",
       "      <td>...</td>\n",
       "      <td>...</td>\n",
       "      <td>...</td>\n",
       "      <td>...</td>\n",
       "      <td>...</td>\n",
       "      <td>...</td>\n",
       "      <td>...</td>\n",
       "    </tr>\n",
       "    <tr>\n",
       "      <th>844061</th>\n",
       "      <td>Femboy gets ate out</td>\n",
       "      <td>femboy;leggings;thick-thighs;peach-butt</td>\n",
       "      <td>Latino;Fetish;Gay;Straight Guys;Amateur;Uncut</td>\n",
       "      <td>NaN</td>\n",
       "      <td>18</td>\n",
       "      <td>237</td>\n",
       "      <td>1.0</td>\n",
       "      <td>0.0</td>\n",
       "      <td>0.0000</td>\n",
       "      <td>1.000000</td>\n",
       "      <td>no</td>\n",
       "      <td>neutral</td>\n",
       "      <td>yes</td>\n",
       "      <td>0.00</td>\n",
       "    </tr>\n",
       "    <tr>\n",
       "      <th>844062</th>\n",
       "      <td>Futabu - Episode 2</td>\n",
       "      <td>big-cock;ass-fuck;teenager;young;anime;anal;cr...</td>\n",
       "      <td>Big Dick;Toys;Anal;Hentai;Teen;Transgender;Bar...</td>\n",
       "      <td>NaN</td>\n",
       "      <td>1203</td>\n",
       "      <td>295</td>\n",
       "      <td>1.0</td>\n",
       "      <td>0.0</td>\n",
       "      <td>0.0000</td>\n",
       "      <td>1.000000</td>\n",
       "      <td>no</td>\n",
       "      <td>neutral</td>\n",
       "      <td>no</td>\n",
       "      <td>0.00</td>\n",
       "    </tr>\n",
       "    <tr>\n",
       "      <th>844063</th>\n",
       "      <td>gemma3</td>\n",
       "      <td>masturbate;teenager;young</td>\n",
       "      <td>Masturbation;Teen;Japanese</td>\n",
       "      <td>NaN</td>\n",
       "      <td>7120</td>\n",
       "      <td>292</td>\n",
       "      <td>1.0</td>\n",
       "      <td>0.0</td>\n",
       "      <td>0.0000</td>\n",
       "      <td>1.000000</td>\n",
       "      <td>no</td>\n",
       "      <td>neutral</td>\n",
       "      <td>no</td>\n",
       "      <td>0.00</td>\n",
       "    </tr>\n",
       "    <tr>\n",
       "      <th>844064</th>\n",
       "      <td>Sex 2020</td>\n",
       "      <td>hfo;hd</td>\n",
       "      <td>Asian;Bondage;Blowjob;Bukkake;Creampie;Cumshot...</td>\n",
       "      <td>NaN</td>\n",
       "      <td>137</td>\n",
       "      <td>157</td>\n",
       "      <td>1.0</td>\n",
       "      <td>1.0</td>\n",
       "      <td>0.0000</td>\n",
       "      <td>0.500000</td>\n",
       "      <td>no</td>\n",
       "      <td>neutral</td>\n",
       "      <td>no</td>\n",
       "      <td>0.00</td>\n",
       "    </tr>\n",
       "    <tr>\n",
       "      <th>844065</th>\n",
       "      <td>Bored, fuck my ass</td>\n",
       "      <td>ass;dildo;insertion;deep;toy</td>\n",
       "      <td>Bareback;Latino;Fetish;Solo Male;Gay;Bear;Amat...</td>\n",
       "      <td>NaN</td>\n",
       "      <td>21</td>\n",
       "      <td>5</td>\n",
       "      <td>2.0</td>\n",
       "      <td>0.0</td>\n",
       "      <td>-0.5423</td>\n",
       "      <td>1.000000</td>\n",
       "      <td>no</td>\n",
       "      <td>negative</td>\n",
       "      <td>no</td>\n",
       "      <td>0.00</td>\n",
       "    </tr>\n",
       "  </tbody>\n",
       "</table>\n",
       "<p>844066 rows × 14 columns</p>\n",
       "</div>"
      ],
      "text/plain": [
       "                               Title  \\\n",
       "0                hollie being a slut   \n",
       "1        Hot babe gets body caressed   \n",
       "2           Slut takes rides it deep   \n",
       "3       Lexi Belle Is One Sexy Bitch   \n",
       "4              Panty and Ass Worship   \n",
       "...                              ...   \n",
       "844061          Femboy gets ate out    \n",
       "844062            Futabu - Episode 2   \n",
       "844063                        gemma3   \n",
       "844064                      Sex 2020   \n",
       "844065            Bored, fuck my ass   \n",
       "\n",
       "                                                     Tags  \\\n",
       "0       hollie;fat;slut;cum-eating;slave;humiliating;h...   \n",
       "1       teen;hardcore;blowjob;amateurs;euro;russian;te...   \n",
       "2       teenhitchhikers.com;ass;chubby;riding;blonde;c...   \n",
       "3       small-tits;pornstar;blonde;teen;fishnet;teasin...   \n",
       "4          fetish;panties;ass;suffocation;pigtails;braces   \n",
       "...                                                   ...   \n",
       "844061            femboy;leggings;thick-thighs;peach-butt   \n",
       "844062  big-cock;ass-fuck;teenager;young;anime;anal;cr...   \n",
       "844063                          masturbate;teenager;young   \n",
       "844064                                             hfo;hd   \n",
       "844065                       ass;dildo;insertion;deep;toy   \n",
       "\n",
       "                                               Categories  \\\n",
       "0                                                  Fetish   \n",
       "1                                   Amateur;Hardcore;Teen   \n",
       "2                                         Blonde;Hardcore   \n",
       "3                      Pornstar;Teen;Small Tits;Rough Sex   \n",
       "4                                             Fetish;Teen   \n",
       "...                                                   ...   \n",
       "844061      Latino;Fetish;Gay;Straight Guys;Amateur;Uncut   \n",
       "844062  Big Dick;Toys;Anal;Hentai;Teen;Transgender;Bar...   \n",
       "844063                         Masturbation;Teen;Japanese   \n",
       "844064  Asian;Bondage;Blowjob;Bukkake;Creampie;Cumshot...   \n",
       "844065  Bareback;Latino;Fetish;Solo Male;Gay;Bear;Amat...   \n",
       "\n",
       "                   Pornstars  duration    views   likes  dislikes   score  \\\n",
       "0                        NaN       417      898     NaN       NaN -0.9022   \n",
       "1                        NaN       317     1040     NaN       NaN  0.0000   \n",
       "2                        NaN        60    76247    85.0      26.0 -0.5423   \n",
       "3       Lexi Belle;Mick Blue      1633  1830089  1741.0     273.0  0.5267   \n",
       "4                        NaN       285    26322    33.0      12.0 -0.5423   \n",
       "...                      ...       ...      ...     ...       ...     ...   \n",
       "844061                   NaN        18      237     1.0       0.0  0.0000   \n",
       "844062                   NaN      1203      295     1.0       0.0  0.0000   \n",
       "844063                   NaN      7120      292     1.0       0.0  0.0000   \n",
       "844064                   NaN       137      157     1.0       1.0  0.0000   \n",
       "844065                   NaN        21        5     2.0       0.0 -0.5423   \n",
       "\n",
       "        like_ratio success sentiment transgender   income  \n",
       "0              NaN      no  negative          no     0.00  \n",
       "1              NaN      no   neutral          no     0.69  \n",
       "2         0.765766      no  negative          no    52.44  \n",
       "3         0.864449     yes  positive          no  1262.70  \n",
       "4         0.733333      no  negative          no    17.94  \n",
       "...            ...     ...       ...         ...      ...  \n",
       "844061    1.000000      no   neutral         yes     0.00  \n",
       "844062    1.000000      no   neutral          no     0.00  \n",
       "844063    1.000000      no   neutral          no     0.00  \n",
       "844064    0.500000      no   neutral          no     0.00  \n",
       "844065    1.000000      no  negative          no     0.00  \n",
       "\n",
       "[844066 rows x 14 columns]"
      ]
     },
     "execution_count": 25,
     "metadata": {},
     "output_type": "execute_result"
    }
   ],
   "source": [
    "df['like_ratio']=df['likes']/(df['likes']+df['dislikes'])\n",
    "df['success']=df2['success']\n",
    "df['sentiment']=df2['sentiment']\n",
    "df['transgender']=df2['transgender']\n",
    "\n",
    "df.columns=['Title', 'Tags', 'Categories', 'Pornstars', 'duration',\n",
    "       'views', 'likes', 'dislikes', 'score', 'like_ratio', 'success',\n",
    "       'sentiment', 'transgender', 'income']\n",
    "\n",
    "#df=df[df['income']>0]\n",
    "#df3=df.dropna(subset='like_ratio')\n",
    "#df_success=df[df['success']=='yes']\n",
    "df"
   ]
  },
  {
   "cell_type": "code",
   "execution_count": 26,
   "id": "f7265634",
   "metadata": {},
   "outputs": [],
   "source": [
    "df_success=df[df['success']=='yes']\n",
    "df_trans=df[df['transgender']=='yes']\n",
    "#df_noneutral=df_success[(df_success['sentiment']=='positive')|(df_success['sentiment']=='negative')]\n",
    "df_trans_success=df_trans[df_trans['success']=='yes']"
   ]
  },
  {
   "cell_type": "code",
   "execution_count": 29,
   "id": "461f592c",
   "metadata": {},
   "outputs": [],
   "source": [
    "outcome_1, predictors_1=patsy.dmatrices('views~sentiment',df_success)\n",
    "mod_1=sm.OLS(outcome_1, predictors_1)\n",
    "res_1=mod_1.fit()"
   ]
  },
  {
   "cell_type": "code",
   "execution_count": 30,
   "id": "9f382f9c",
   "metadata": {},
   "outputs": [
    {
     "name": "stdout",
     "output_type": "stream",
     "text": [
      "                            OLS Regression Results                            \n",
      "==============================================================================\n",
      "Dep. Variable:                  views   R-squared:                       0.001\n",
      "Model:                            OLS   Adj. R-squared:                  0.001\n",
      "Method:                 Least Squares   F-statistic:                     13.81\n",
      "Date:                Sun, 10 Dec 2023   Prob (F-statistic):           1.01e-06\n",
      "Time:                        03:18:09   Log-Likelihood:            -7.6779e+05\n",
      "No. Observations:               48866   AIC:                         1.536e+06\n",
      "Df Residuals:                   48863   BIC:                         1.536e+06\n",
      "Df Model:                           2                                         \n",
      "Covariance Type:            nonrobust                                         \n",
      "=========================================================================================\n",
      "                            coef    std err          t      P>|t|      [0.025      0.975]\n",
      "-----------------------------------------------------------------------------------------\n",
      "Intercept              6.431e+05   1.77e+04     36.262      0.000    6.08e+05    6.78e+05\n",
      "sentiment[T.neutral]  -6.392e+04   1.98e+04     -3.232      0.001   -1.03e+05   -2.52e+04\n",
      "sentiment[T.positive]  3.657e+04   2.65e+04      1.379      0.168   -1.54e+04    8.86e+04\n",
      "==============================================================================\n",
      "Omnibus:                    93576.938   Durbin-Watson:                   2.001\n",
      "Prob(Omnibus):                  0.000   Jarque-Bera (JB):        295353949.503\n",
      "Skew:                          14.812   Prob(JB):                         0.00\n",
      "Kurtosis:                     382.713   Cond. No.                         5.77\n",
      "==============================================================================\n",
      "\n",
      "Notes:\n",
      "[1] Standard Errors assume that the covariance matrix of the errors is correctly specified.\n"
     ]
    }
   ],
   "source": [
    "print(res_1.summary())"
   ]
  },
  {
   "cell_type": "code",
   "execution_count": null,
   "id": "451711a6",
   "metadata": {},
   "outputs": [],
   "source": []
  },
  {
   "cell_type": "code",
   "execution_count": 31,
   "id": "9082c88f",
   "metadata": {},
   "outputs": [],
   "source": [
    "outcome_2, predictors_2=patsy.dmatrices('views~score+like_ratio',df_trans_success)\n",
    "mod_2=sm.OLS(outcome_2, predictors_2)\n",
    "res_2=mod_2.fit()"
   ]
  },
  {
   "cell_type": "code",
   "execution_count": 32,
   "id": "9c84e643",
   "metadata": {},
   "outputs": [
    {
     "name": "stdout",
     "output_type": "stream",
     "text": [
      "                            OLS Regression Results                            \n",
      "==============================================================================\n",
      "Dep. Variable:                  views   R-squared:                       0.011\n",
      "Model:                            OLS   Adj. R-squared:                  0.010\n",
      "Method:                 Least Squares   F-statistic:                     9.921\n",
      "Date:                Sun, 10 Dec 2023   Prob (F-statistic):           5.18e-05\n",
      "Time:                        03:18:30   Log-Likelihood:                -28549.\n",
      "No. Observations:                1860   AIC:                         5.710e+04\n",
      "Df Residuals:                    1857   BIC:                         5.712e+04\n",
      "Df Model:                           2                                         \n",
      "Covariance Type:            nonrobust                                         \n",
      "==============================================================================\n",
      "                 coef    std err          t      P>|t|      [0.025      0.975]\n",
      "------------------------------------------------------------------------------\n",
      "Intercept    1.22e+06   2.59e+05      4.712      0.000    7.12e+05    1.73e+06\n",
      "score       3.281e+05   9.59e+04      3.419      0.001     1.4e+05    5.16e+05\n",
      "like_ratio -9.214e+05   3.28e+05     -2.811      0.005   -1.56e+06   -2.79e+05\n",
      "==============================================================================\n",
      "Omnibus:                     3434.133   Durbin-Watson:                   1.978\n",
      "Prob(Omnibus):                  0.000   Jarque-Bera (JB):          4760316.281\n",
      "Skew:                          13.334   Prob(JB):                         0.00\n",
      "Kurtosis:                     249.398   Cond. No.                         20.4\n",
      "==============================================================================\n",
      "\n",
      "Notes:\n",
      "[1] Standard Errors assume that the covariance matrix of the errors is correctly specified.\n"
     ]
    }
   ],
   "source": [
    "print(res_2.summary())"
   ]
  },
  {
   "cell_type": "code",
   "execution_count": null,
   "id": "9a3e0bb1",
   "metadata": {},
   "outputs": [],
   "source": []
  },
  {
   "cell_type": "code",
   "execution_count": 33,
   "id": "d2891074",
   "metadata": {},
   "outputs": [],
   "source": [
    "outcome_3, predictors_3=patsy.dmatrices('views~duration',df_trans_success)\n",
    "mod_3=sm.OLS(outcome_3, predictors_3)\n",
    "res_3=mod_3.fit()"
   ]
  },
  {
   "cell_type": "code",
   "execution_count": 34,
   "id": "471f46dd",
   "metadata": {},
   "outputs": [
    {
     "name": "stdout",
     "output_type": "stream",
     "text": [
      "                            OLS Regression Results                            \n",
      "==============================================================================\n",
      "Dep. Variable:                  views   R-squared:                       0.002\n",
      "Model:                            OLS   Adj. R-squared:                  0.002\n",
      "Method:                 Least Squares   F-statistic:                     4.576\n",
      "Date:                Sun, 10 Dec 2023   Prob (F-statistic):             0.0326\n",
      "Time:                        03:19:15   Log-Likelihood:                -28556.\n",
      "No. Observations:                1860   AIC:                         5.712e+04\n",
      "Df Residuals:                    1858   BIC:                         5.713e+04\n",
      "Df Model:                           1                                         \n",
      "Covariance Type:            nonrobust                                         \n",
      "==============================================================================\n",
      "                 coef    std err          t      P>|t|      [0.025      0.975]\n",
      "------------------------------------------------------------------------------\n",
      "Intercept   4.413e+05   3.32e+04     13.298      0.000    3.76e+05    5.06e+05\n",
      "duration      51.7800     24.207      2.139      0.033       4.305      99.255\n",
      "==============================================================================\n",
      "Omnibus:                     3435.736   Durbin-Watson:                   1.964\n",
      "Prob(Omnibus):                  0.000   Jarque-Bera (JB):          4701128.265\n",
      "Skew:                          13.356   Prob(JB):                         0.00\n",
      "Kurtosis:                     247.839   Cond. No.                     1.74e+03\n",
      "==============================================================================\n",
      "\n",
      "Notes:\n",
      "[1] Standard Errors assume that the covariance matrix of the errors is correctly specified.\n",
      "[2] The condition number is large, 1.74e+03. This might indicate that there are\n",
      "strong multicollinearity or other numerical problems.\n"
     ]
    }
   ],
   "source": [
    "print(res_3.summary())"
   ]
  },
  {
   "cell_type": "code",
   "execution_count": 35,
   "id": "df074723",
   "metadata": {},
   "outputs": [
    {
     "data": {
      "text/plain": [
       "<seaborn.axisgrid.FacetGrid at 0x7ef8c9184f10>"
      ]
     },
     "execution_count": 35,
     "metadata": {},
     "output_type": "execute_result"
    },
    {
     "data": {
      "image/png": "[encoded data removed]",
      "text/plain": [
       "<Figure size 360x360 with 1 Axes>"
      ]
     },
     "metadata": {
      "needs_background": "light"
     },
     "output_type": "display_data"
    }
   ],
   "source": [
    "sns.lmplot(data=df_trans_success,x='score',y='views')"
   ]
  },
  {
   "cell_type": "code",
   "execution_count": 36,
   "id": "3764f0cc",
   "metadata": {},
   "outputs": [
    {
     "data": {
      "text/plain": [
       "<seaborn.axisgrid.FacetGrid at 0x7ef8cb5196d0>"
      ]
     },
     "execution_count": 36,
     "metadata": {},
     "output_type": "execute_result"
    },
    {
     "data": {
      "image/png": "[encoded data removed]",
      "text/plain": [
       "<Figure size 360x360 with 1 Axes>"
      ]
     },
     "metadata": {
      "needs_background": "light"
     },
     "output_type": "display_data"
    }
   ],
   "source": [
    "sns.lmplot(data=df_trans_success,x='duration',y='views')"
   ]
  },
  {
   "cell_type": "code",
   "execution_count": null,
   "id": "1dee425f",
   "metadata": {},
   "outputs": [],
   "source": []
  }
 ],
 "metadata": {
  "kernelspec": {
   "display_name": "Python 3 (ipykernel)",
   "language": "python",
   "name": "python3"
  },
  "language_info": {
   "codemirror_mode": {
    "name": "ipython",
    "version": 3
   },
   "file_extension": ".py",
   "mimetype": "text/x-python",
   "name": "python",
   "nbconvert_exporter": "python",
   "pygments_lexer": "ipython3",
   "version": "3.9.5"
  }
 },
 "nbformat": 4,
 "nbformat_minor": 5
}
